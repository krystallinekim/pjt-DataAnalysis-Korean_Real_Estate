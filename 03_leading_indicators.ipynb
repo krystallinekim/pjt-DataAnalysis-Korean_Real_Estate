{
 "cells": [
  {
   "cell_type": "markdown",
   "id": "3df0e2eb",
   "metadata": {},
   "source": [
    "# 한국 부동산 시장 분석 및 투자 전략 수립\n",
    "\n",
    "## 과제 3: 부동산 거래량과 가격의 선행지표 관계 분석\n",
    "부동산 거래량 변화가 가격 변동에 미치는 영향을 시차 분석을 통해 파악하고, 시장 전환점을 예측할 수 있는 지표를 개발\n",
    "\n",
    "- 월별 부동산 거래량 변화 확인\n",
    "- 시장 전환점 예측(변곡점, 극대값, 극소값 등) 지표 개발"
   ]
  },
  {
   "cell_type": "code",
   "execution_count": null,
   "id": "fad44304",
   "metadata": {},
   "outputs": [],
   "source": [
    "import numpy as np\n",
    "import pandas as pd\n",
    "import matplotlib.pyplot as plt\n",
    "import seaborn as sns\n",
    "import warnings\n",
    "from IPython.display import display\n",
    "\n",
    "warnings.filterwarnings('ignore')\n",
    "\n",
    "plt.rcParams['font.family'] = 'Malgun Gothic'\n",
    "plt.rcParams['axes.unicode_minus'] = False\n",
    "\n",
    "df_sales = pd.read_csv('./data/sales_clean.csv')\n",
    "df_long = pd.read_csv('./data/long_clean.csv')\n",
    "df_monthly = pd.read_csv('./data/monthly_clean.csv')"
   ]
  }
 ],
 "metadata": {
  "kernelspec": {
   "display_name": "venv",
   "language": "python",
   "name": "python3"
  },
  "language_info": {
   "name": "python",
   "version": "3.13.2"
  }
 },
 "nbformat": 4,
 "nbformat_minor": 5
}
