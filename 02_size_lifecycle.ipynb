{
 "cells": [
  {
   "cell_type": "markdown",
   "id": "fd950860",
   "metadata": {},
   "source": [
    "# 한국 부동산 시장 분석 및 투자 전략 수립\n",
    "\n",
    "## 과제 2: 아파트 규모별 가격 트렌드 및 생애주기 투자 전략\n",
    "\n",
    "전용면적별(소형, 중형, 대형) 아파트의 가격 변동 추이를 분석, 생애주기와 데이터 분석에 따른 최적 투자 전략과 거주 전략을 제시\n",
    "\n",
    "- 전용면적 기준으로 분류(기준은 인터넷에서 찾기) 후 규모별 가격 변동 추이 분석, 시각화\n",
    "- 생애주기\n",
    "  - 20~30: 신혼 / 첫 주택 구입 시기 \n",
    "  - 40~50: 자산 증식 시기\n",
    "  - 60~  : 다운사이징 / 현금화 단계"
   ]
  },
  {
   "cell_type": "code",
   "execution_count": null,
   "id": "242fd026",
   "metadata": {},
   "outputs": [],
   "source": [
    "import numpy as np\n",
    "import pandas as pd\n",
    "import matplotlib.pyplot as plt\n",
    "import seaborn as sns\n",
    "import warnings\n",
    "from IPython.display import display\n",
    "\n",
    "warnings.filterwarnings('ignore')\n",
    "\n",
    "plt.rcParams['font.family'] = 'Malgun Gothic'\n",
    "plt.rcParams['axes.unicode_minus'] = False\n",
    "\n",
    "df_sales = pd.read_csv('./data/sales_clean.csv')\n",
    "df_long = pd.read_csv('./data/long_clean.csv')\n",
    "df_monthly = pd.read_csv('./data/monthly_clean.csv')"
   ]
  }
 ],
 "metadata": {
  "kernelspec": {
   "display_name": "venv",
   "language": "python",
   "name": "python3"
  },
  "language_info": {
   "name": "python",
   "version": "3.13.2"
  }
 },
 "nbformat": 4,
 "nbformat_minor": 5
}
