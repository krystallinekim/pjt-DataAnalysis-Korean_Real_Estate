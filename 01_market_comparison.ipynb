{
 "cells": [
  {
   "cell_type": "markdown",
   "id": "2e841a57",
   "metadata": {},
   "source": [
    "# 한국 부동산 시장 분석 및 투자 전략 수립\n",
    "\n",
    "## 과제 1: 서울 인기구 vs 비인기구 부동산 시장 비교 분석\n",
    "가격 변동 패턴 비교분석, 지역별 시장 특성 및 투자 매력도 평가\n",
    "\n",
    "- 인기구: 거래량/거래액 기준 상위 3개구, 비인기구: 거래량/거래액 기준 하위 3개구\n",
    "\n",
    "- 지역별 시장 특성 시각화\n",
    "  - 거래 밀도, 평균 거래가, 변동성 지표 등등\n",
    "\n",
    "- 투자 매력도 -> 변동성, 수익률 \n",
    "  - 변동성: 표준편차로 확인, 수익률은 연초에 샀을 때 얼마나 올랐는지"
   ]
  },
  {
   "cell_type": "code",
   "execution_count": null,
   "id": "0391538f",
   "metadata": {},
   "outputs": [],
   "source": [
    "import numpy as np\n",
    "import pandas as pd\n",
    "import matplotlib.pyplot as plt\n",
    "import seaborn as sns\n",
    "import warnings\n",
    "from IPython.display import display\n",
    "\n",
    "warnings.filterwarnings('ignore')\n",
    "\n",
    "plt.rcParams['font.family'] = 'Malgun Gothic'\n",
    "plt.rcParams['axes.unicode_minus'] = False\n",
    "\n",
    "df_sales = pd.read_csv('./data/sales_clean.csv')\n",
    "df_long = pd.read_csv('./data/long_clean.csv')\n",
    "df_monthly = pd.read_csv('./data/monthly_clean.csv')"
   ]
  }
 ],
 "metadata": {
  "kernelspec": {
   "display_name": "venv",
   "language": "python",
   "name": "python3"
  },
  "language_info": {
   "codemirror_mode": {
    "name": "ipython",
    "version": 3
   },
   "file_extension": ".py",
   "mimetype": "text/x-python",
   "name": "python",
   "nbconvert_exporter": "python",
   "pygments_lexer": "ipython3",
   "version": "3.13.2"
  }
 },
 "nbformat": 4,
 "nbformat_minor": 5
}
