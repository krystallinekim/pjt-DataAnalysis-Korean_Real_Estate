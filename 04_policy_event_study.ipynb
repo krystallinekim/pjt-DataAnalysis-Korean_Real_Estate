{
 "cells": [
  {
   "cell_type": "markdown",
   "id": "52824291",
   "metadata": {},
   "source": [
    "# 한국 부동산 시장 분석 및 투자 전략 수립\n",
    "\n",
    "## 자유주제: 금리 및 정부 부동산 정책 변화가 서울 부동산 시장에 미치는 영향 분석\n",
    "1. 금리 데이터 크롤링\n",
    "    - 금리 데이터와 부동산 시장(거래량, 거래금액)과의 상관관계 분석\n",
    "2. 주요 정부 부동산 정책 날짜 체크\n",
    "    - 날짜 기준으로 잘라서 앞뒤 따로 분석(그래프 등)\n",
    "3. 실무 인사이트 도출"
   ]
  },
  {
   "cell_type": "code",
   "execution_count": null,
   "id": "e93eea36",
   "metadata": {},
   "outputs": [],
   "source": [
    "import numpy as np\n",
    "import pandas as pd\n",
    "import matplotlib.pyplot as plt\n",
    "import seaborn as sns\n",
    "import warnings\n",
    "from IPython.display import display\n",
    "\n",
    "warnings.filterwarnings('ignore')\n",
    "\n",
    "plt.rcParams['font.family'] = 'Malgun Gothic'\n",
    "plt.rcParams['axes.unicode_minus'] = False\n",
    "\n",
    "df_sales = pd.read_csv('./data/sales_clean.csv')\n",
    "df_long = pd.read_csv('./data/long_clean.csv')\n",
    "df_monthly = pd.read_csv('./data/monthly_clean.csv')"
   ]
  }
 ],
 "metadata": {
  "kernelspec": {
   "display_name": "venv",
   "language": "python",
   "name": "python3"
  },
  "language_info": {
   "name": "python",
   "version": "3.13.2"
  }
 },
 "nbformat": 4,
 "nbformat_minor": 5
}
